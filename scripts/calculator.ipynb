{
 "cells": [
  {
   "cell_type": "code",
   "execution_count": 1,
   "metadata": {},
   "outputs": [],
   "source": [
    "import pymrio\n",
    "import pandas as pd\n",
    "import numpy as np\n",
    "import matplotlib.pyplot as plt"
   ]
  },
  {
   "cell_type": "code",
   "execution_count": 3,
   "metadata": {},
   "outputs": [],
   "source": [
    "'''\n",
    "Data setup --> imported from Z_analysis\n",
    "Note: this will take a while to run. Something like 3 mins\n",
    "'''\n",
    "\n",
    "exio3 = pymrio.parse_exiobase3(path='/Users/jeffreyzhou/Desktop/MRIO/Data/IOT_2014_pxp.zip')\n",
    "all_regions = exio3.get_regions()\n",
    "all_sectors = exio3.get_sectors()\n",
    "\n",
    "#include all missing calculations with calc_all()\n",
    "exio3.calc_all()\n",
    "\n",
    "#US Z matrix - transaction matrix\n",
    "us_z = exio3.Z.aggregate('US')\n",
    "\n",
    "#US Y matrix - final demand matrix\n",
    "us_y = exio3.Y.aggregate('US')\n",
    "\n",
    "trade_matrix_dict = {}\n",
    "count = 0\n",
    "lower_bound = 0\n",
    "upper_bound = 200\n",
    "\n",
    "for region in all_regions:\n",
    "    trade_matrix_dict[region] = us_z.iloc[lower_bound:upper_bound]\n",
    "    lower_bound += 200\n",
    "    upper_bound += 200\n",
    "\n",
    "demand_matrix_dict = {}\n",
    "count = 0\n",
    "lower_bound = 0\n",
    "upper_bound = 200\n",
    "\n",
    "for region in all_regions:\n",
    "    demand_matrix_dict[region] = us_y.iloc[lower_bound:upper_bound]\n",
    "    lower_bound += 200\n",
    "    upper_bound += 200\n",
    "\n",
    "trade_calcvalues_dict = {}\n",
    "    \n",
    "for region in all_regions:\n",
    "    tm = trade_matrix_dict[region]\n",
    "    d = {}\n",
    "    for sector in all_sectors:\n",
    "        d[sector] = tm[sector].values.sum()\n",
    "    in_series = pd.Series(data = d, index = all_sectors)\n",
    "    trade_calcvalues_dict[region] = in_series\n",
    "\n",
    "US_total_trade = {}\n",
    "\n",
    "for sector in all_sectors:\n",
    "    in_dict = {}\n",
    "    for region in all_regions:\n",
    "        if region == 'US': # comment out this line if including domestic inputs\n",
    "            continue\n",
    "        in_dict[region] = trade_calcvalues_dict[region][sector]\n",
    "    US_total_trade[sector] = in_dict"
   ]
  },
  {
   "cell_type": "code",
   "execution_count": 4,
   "metadata": {},
   "outputs": [],
   "source": [
    "#function that plots graphs of specific width and height.\n",
    "\n",
    "def plot_func(x, y, xlabel, ylabel, title):\n",
    "    fig = plt.figure(figsize=(16, 5))\n",
    "    ax = fig.add_subplot(111)\n",
    "    ax.bar(x,y)\n",
    "    fig.suptitle(title, fontsize=20)\n",
    "    plt.xlabel(xlabel, fontsize=18)\n",
    "    plt.ylabel(ylabel, fontsize=16)\n",
    "\n",
    "    \n",
    "    plt.show()"
   ]
  },
  {
   "cell_type": "code",
   "execution_count": 29,
   "metadata": {},
   "outputs": [
    {
     "data": {
      "image/png": "[encoded data removed]",
      "text/plain": [
       "<Figure size 1152x360 with 1 Axes>"
      ]
     },
     "metadata": {
      "needs_background": "light"
     },
     "output_type": "display_data"
    }
   ],
   "source": [
    "#Production impacts (GHG) per region\n",
    "regional_prod_ghg = exio3.impacts.D_pba_reg.loc['GHG emissions (GWP100) | Problem oriented approach: baseline (CML, 2001) | GWP100 (IPCC, 2007)']\n",
    "plot_func(all_regions, regional_prod_ghg.to_list(), 'Regions', 'GHG emissions', \"Total GHG by Region (From Production) 2014\")\n",
    "\n",
    "# X Matrix: Total produciton output ($) of every region AND every sector \n",
    "All_region_total_output = exio3.x.to_dict()['indout']\n",
    "\n",
    "# Consumption impacts\n",
    "imports = exio3.impacts.D_imp.US.loc['GHG emissions (GWP100) | Problem oriented approach: baseline (CML, 2001) | GWP100 (IPCC, 2007)']\n",
    "\n",
    "consumption = exio3.impacts.D_cba.US.loc['GHG emissions (GWP100) | Problem oriented approach: baseline (CML, 2001) | GWP100 (IPCC, 2007)']"
   ]
  },
  {
   "cell_type": "code",
   "execution_count": 30,
   "metadata": {},
   "outputs": [
    {
     "name": "stdout",
     "output_type": "stream",
     "text": [
      "2014 GHG from imports : 1651811300720.776\n",
      "2014 GHG from total consumption : 5939921071758.176\n",
      "sum: 7591732372478.951\n"
     ]
    },
    {
     "data": {
      "text/plain": [
       "28"
      ]
     },
     "execution_count": 30,
     "metadata": {},
     "output_type": "execute_result"
    }
   ],
   "source": [
    "print(f\"2014 GHG from imports : {imports.sum()}\")\n",
    "print(f\"2014 GHG from total consumption : {consumption.sum()}\")\n",
    "print(f\"sum: {imports.sum() + consumption.sum()}\")\n",
    "\n",
    "imports = imports.to_dict()\n",
    "consumption = consumption.to_dict()\n",
    "\n",
    "impacts_percent= {}\n",
    "count = 0\n",
    "for sector in all_sectors:\n",
    "    d = consumption[sector]\n",
    "    n = imports[sector]\n",
    "    if d == 0:\n",
    "        count += 1\n",
    "        if n != 0:\n",
    "            print(\"ERROR\")\n",
    "        impacts_percent[sector] = 'NA'\n",
    "        continue\n",
    "    percent = n / (d + n)\n",
    "    impacts_percent[sector] = percent\n",
    "count"
   ]
  },
  {
   "cell_type": "code",
   "execution_count": null,
   "metadata": {},
   "outputs": [],
   "source": [
    "df = pd.DataFrame(data=all_sectors)\n",
    "x, y = zip(*impacts_percent.items())\n",
    "\n",
    "\n"
   ]
  },
  {
   "cell_type": "markdown",
   "metadata": {},
   "source": [
    "2014: 7.59 × 10^12 vs 7.52 x 10^12\n"
   ]
  },
  {
   "cell_type": "code",
   "execution_count": 41,
   "metadata": {},
   "outputs": [
    {
     "data": {
      "text/plain": [
       "Index(['Paddy rice', 'Wheat', 'Cereal grains nec', 'Vegetables, fruit, nuts',\n",
       "       'Oil seeds', 'Sugar cane, sugar beet', 'Plant-based fibers',\n",
       "       'Crops nec', 'Cattle', 'Pigs', 'Poultry', 'Meat animals nec',\n",
       "       'Animal products nec', 'Raw milk', 'Wool, silk-worm cocoons',\n",
       "       'Manure (conventional treatment)', 'Manure (biogas treatment)',\n",
       "       'Products of forestry, logging and related services (02)',\n",
       "       'Fish and other fishing products; services incidental of fishing (05)',\n",
       "       'Anthracite', 'Coking Coal', 'Other Bituminous Coal',\n",
       "       'Sub-Bituminous Coal', 'Patent Fuel', 'Lignite/Brown Coal',\n",
       "       'BKB/Peat Briquettes', 'Peat',\n",
       "       'Crude petroleum and services related to crude oil extraction, excluding surveying',\n",
       "       'Natural gas and services related to natural gas extraction, excluding surveying',\n",
       "       'Natural Gas Liquids', 'Other Hydrocarbons',\n",
       "       'Uranium and thorium ores (12)', 'Iron ores',\n",
       "       'Copper ores and concentrates', 'Nickel ores and concentrates',\n",
       "       'Aluminium ores and concentrates',\n",
       "       'Precious metal ores and concentrates',\n",
       "       'Lead, zinc and tin ores and concentrates',\n",
       "       'Other non-ferrous metal ores and concentrates', 'Stone',\n",
       "       'Sand and clay',\n",
       "       'Chemical and fertilizer minerals, salt and other mining and quarrying products n.e.c.',\n",
       "       'Products of meat cattle', 'Products of meat pigs',\n",
       "       'Products of meat poultry', 'Meat products nec',\n",
       "       'products of Vegetable oils and fats', 'Dairy products',\n",
       "       'Processed rice', 'Sugar', 'Food products nec', 'Beverages',\n",
       "       'Fish products', 'Tobacco products (16)', 'Textiles (17)',\n",
       "       'Wearing apparel; furs (18)', 'Leather and leather products (19)',\n",
       "       'Wood and products of wood and cork (except furniture); articles of straw and plaiting materials (20)',\n",
       "       'Wood material for treatment, Re-processing of secondary wood material into new wood material',\n",
       "       'Pulp',\n",
       "       'Secondary paper for treatment, Re-processing of secondary paper into new pulp',\n",
       "       'Paper and paper products', 'Printed matter and recorded media (22)',\n",
       "       'Coke Oven Coke', 'Gas Coke', 'Coal Tar', 'Motor Gasoline',\n",
       "       'Aviation Gasoline', 'Gasoline Type Jet Fuel', 'Kerosene Type Jet Fuel',\n",
       "       'Kerosene', 'Gas/Diesel Oil', 'Heavy Fuel Oil', 'Refinery Gas',\n",
       "       'Liquefied Petroleum Gases (LPG)', 'Refinery Feedstocks', 'Ethane',\n",
       "       'Naphtha', 'White Spirit & SBP', 'Lubricants', 'Bitumen',\n",
       "       'Paraffin Waxes', 'Petroleum Coke', 'Non-specified Petroleum Products',\n",
       "       'Nuclear fuel', 'Plastics, basic',\n",
       "       'Secondary plastic for treatment, Re-processing of secondary plastic into new plastic',\n",
       "       'N-fertiliser', 'P- and other fertiliser', 'Chemicals nec', 'Charcoal',\n",
       "       'Additives/Blending Components', 'Biogasoline', 'Biodiesels',\n",
       "       'Other Liquid Biofuels', 'Rubber and plastic products (25)',\n",
       "       'Glass and glass products',\n",
       "       'Secondary glass for treatment, Re-processing of secondary glass into new glass',\n",
       "       'Ceramic goods',\n",
       "       'Bricks, tiles and construction products, in baked clay',\n",
       "       'Cement, lime and plaster',\n",
       "       'Ash for treatment, Re-processing of ash into clinker',\n",
       "       'Other non-metallic mineral products',\n",
       "       'Basic iron and steel and of ferro-alloys and first products thereof',\n",
       "       'Secondary steel for treatment, Re-processing of secondary steel into new steel',\n",
       "       'Precious metals',\n",
       "       'Secondary preciuos metals for treatment, Re-processing of secondary preciuos metals into new preciuos metals',\n",
       "       'Aluminium and aluminium products',\n",
       "       'Secondary aluminium for treatment, Re-processing of secondary aluminium into new aluminium',\n",
       "       'Lead, zinc and tin and products thereof',\n",
       "       'Secondary lead for treatment, Re-processing of secondary lead into new lead',\n",
       "       'Copper products',\n",
       "       'Secondary copper for treatment, Re-processing of secondary copper into new copper',\n",
       "       'Other non-ferrous metal products',\n",
       "       'Secondary other non-ferrous metals for treatment, Re-processing of secondary other non-ferrous metals into new other non-ferrous metals',\n",
       "       'Foundry work services',\n",
       "       'Fabricated metal products, except machinery and equipment (28)',\n",
       "       'Machinery and equipment n.e.c. (29)',\n",
       "       'Office machinery and computers (30)',\n",
       "       'Electrical machinery and apparatus n.e.c. (31)',\n",
       "       'Radio, television and communication equipment and apparatus (32)',\n",
       "       'Medical, precision and optical instruments, watches and clocks (33)',\n",
       "       'Motor vehicles, trailers and semi-trailers (34)',\n",
       "       'Other transport equipment (35)',\n",
       "       'Furniture; other manufactured goods n.e.c. (36)',\n",
       "       'Secondary raw materials',\n",
       "       'Bottles for treatment, Recycling of bottles by direct reuse',\n",
       "       'Electricity by coal', 'Electricity by gas', 'Electricity by nuclear',\n",
       "       'Electricity by hydro', 'Electricity by wind',\n",
       "       'Electricity by petroleum and other oil derivatives',\n",
       "       'Electricity by biomass and waste', 'Electricity by solar photovoltaic',\n",
       "       'Electricity by solar thermal', 'Electricity by tide, wave, ocean',\n",
       "       'Electricity by Geothermal', 'Electricity nec',\n",
       "       'Transmission services of electricity',\n",
       "       'Distribution and trade services of electricity', 'Coke oven gas',\n",
       "       'Blast Furnace Gas', 'Oxygen Steel Furnace Gas', 'Gas Works Gas',\n",
       "       'Biogas', 'Distribution services of gaseous fuels through mains',\n",
       "       'Steam and hot water supply services',\n",
       "       'Collected and purified water, distribution services of water (41)',\n",
       "       'Construction work (45)',\n",
       "       'Secondary construction material for treatment, Re-processing of secondary construction material into aggregates',\n",
       "       'Sale, maintenance, repair of motor vehicles, motor vehicles parts, motorcycles, motor cycles parts and accessoiries',\n",
       "       'Retail trade services of motor fuel',\n",
       "       'Wholesale trade and commission trade services, except of motor vehicles and motorcycles (51)',\n",
       "       'Retail  trade services, except of motor vehicles and motorcycles; repair services of personal and household goods (52)',\n",
       "       'Hotel and restaurant services (55)', 'Railway transportation services',\n",
       "       'Other land transportation services',\n",
       "       'Transportation services via pipelines',\n",
       "       'Sea and coastal water transportation services',\n",
       "       'Inland water transportation services', 'Air transport services (62)',\n",
       "       'Supporting and auxiliary transport services; travel agency services (63)',\n",
       "       'Post and telecommunication services (64)',\n",
       "       'Financial intermediation services, except insurance and pension funding services (65)',\n",
       "       'Insurance and pension funding services, except compulsory social security services (66)',\n",
       "       'Services auxiliary to financial intermediation (67)',\n",
       "       'Real estate services (70)',\n",
       "       'Renting services of machinery and equipment without operator and of personal and household goods (71)',\n",
       "       'Computer and related services (72)',\n",
       "       'Research and development services (73)',\n",
       "       'Other business services (74)',\n",
       "       'Public administration and defence services; compulsory social security services (75)',\n",
       "       'Education services (80)', 'Health and social work services (85)',\n",
       "       'Food waste for treatment: incineration',\n",
       "       'Paper waste for treatment: incineration',\n",
       "       'Plastic waste for treatment: incineration',\n",
       "       'Intert/metal waste for treatment: incineration',\n",
       "       'Textiles waste for treatment: incineration',\n",
       "       'Wood waste for treatment: incineration',\n",
       "       'Oil/hazardous waste for treatment: incineration',\n",
       "       'Food waste for treatment: biogasification and land application',\n",
       "       'Paper waste for treatment: biogasification and land application',\n",
       "       'Sewage sludge for treatment: biogasification and land application',\n",
       "       'Food waste for treatment: composting and land application',\n",
       "       'Paper and wood waste for treatment: composting and land application',\n",
       "       'Food waste for treatment: waste water treatment',\n",
       "       'Other waste for treatment: waste water treatment',\n",
       "       'Food waste for treatment: landfill', 'Paper for treatment: landfill',\n",
       "       'Plastic waste for treatment: landfill',\n",
       "       'Inert/metal/hazardous waste for treatment: landfill',\n",
       "       'Textiles waste for treatment: landfill',\n",
       "       'Wood waste for treatment: landfill',\n",
       "       'Membership organisation services n.e.c. (91)',\n",
       "       'Recreational, cultural and sporting services (92)',\n",
       "       'Other services (93)', 'Private households with employed persons (95)',\n",
       "       'Extra-territorial organizations and bodies'],\n",
       "      dtype='object', name='sector')"
      ]
     },
     "execution_count": 41,
     "metadata": {},
     "output_type": "execute_result"
    }
   ],
   "source": [
    "pd.options.display.max_seq_items = 2000\n",
    "\n",
    "\n",
    "all_sectors"
   ]
  },
  {
   "cell_type": "code",
   "execution_count": null,
   "metadata": {},
   "outputs": [],
   "source": []
  }
 ],
 "metadata": {
  "kernelspec": {
   "display_name": "Python 3.9.12 ('base')",
   "language": "python",
   "name": "python3"
  },
  "language_info": {
   "codemirror_mode": {
    "name": "ipython",
    "version": 3
   },
   "file_extension": ".py",
   "mimetype": "text/x-python",
   "name": "python",
   "nbconvert_exporter": "python",
   "pygments_lexer": "ipython3",
   "version": "3.9.12"
  },
  "orig_nbformat": 4,
  "vscode": {
   "interpreter": {
    "hash": "04f8f7808fa8a5e6ba7efbe82e27301030a87688229265151c2cf49d6b10a02e"
   }
  }
 },
 "nbformat": 4,
 "nbformat_minor": 2
}
