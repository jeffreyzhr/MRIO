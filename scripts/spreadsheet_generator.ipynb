{
 "cells": [
  {
   "cell_type": "markdown",
   "metadata": {},
   "source": [
    "# Speadsheet calculator\n",
    "### This notebook will extract data and format it into an excel sheet. Run the cells in order (omit cells if necessary)\n",
    "### Jeffrey Zhou\n",
    "### Fall 2022"
   ]
  },
  {
   "cell_type": "code",
   "execution_count": 1,
   "metadata": {},
   "outputs": [],
   "source": [
    "import pymrio\n",
    "import pandas as pd\n",
    "import numpy as np\n",
    "import matplotlib.pyplot as plt"
   ]
  },
  {
   "cell_type": "markdown",
   "metadata": {},
   "source": [
    "This following cell will parse data from the EXIO3 database into workable matrices and dictonaries. BEFORE RUNNING, note that you will need to download the ZIP versions of IOT data from the EXIO3 website. Include the full pathname to the ZIP file in the 'path' argument in the <parse_exiobase3> method call"
   ]
  },
  {
   "cell_type": "code",
   "execution_count": 66,
   "metadata": {},
   "outputs": [],
   "source": [
    "'''\n",
    "Data setup\n",
    "Note: this will take a while to run. Something like 3 mins\n",
    "'''\n",
    "\n",
    "exio3 = pymrio.parse_exiobase3(path='/Users/jeffreyzhou/Desktop/MRIO/Data/IOT_2019_pxp.zip')\n",
    "all_regions = exio3.get_regions()\n",
    "all_sectors = exio3.get_sectors()\n",
    "\n",
    "#include all missing calculations with calc_all()\n",
    "exio3.calc_all()\n",
    "\n",
    "#US Z matrix - transaction matrix\n",
    "us_z = exio3.Z.aggregate('US')\n",
    "\n",
    "#US Y matrix - final demand matrix\n",
    "us_y = exio3.Y.aggregate('US')\n",
    "\n",
    "trade_matrix_dict = {}\n",
    "count = 0\n",
    "lower_bound = 0\n",
    "upper_bound = 200\n",
    "\n",
    "for region in all_regions:\n",
    "    trade_matrix_dict[region] = us_z.iloc[lower_bound:upper_bound]\n",
    "    lower_bound += 200\n",
    "    upper_bound += 200\n",
    "\n",
    "demand_matrix_dict = {}\n",
    "count = 0\n",
    "lower_bound = 0\n",
    "upper_bound = 200\n",
    "\n",
    "for region in all_regions:\n",
    "    demand_matrix_dict[region] = us_y.iloc[lower_bound:upper_bound]\n",
    "    lower_bound += 200\n",
    "    upper_bound += 200\n",
    "\n",
    "trade_calcvalues_dict = {}\n",
    "    \n",
    "for region in all_regions:\n",
    "    tm = trade_matrix_dict[region]\n",
    "    d = {}\n",
    "    for sector in all_sectors:\n",
    "        d[sector] = tm[sector].values.sum()\n",
    "    in_series = pd.Series(data = d, index = all_sectors)\n",
    "    trade_calcvalues_dict[region] = in_series\n",
    "\n",
    "US_total_trade = {}\n",
    "\n",
    "for sector in all_sectors:\n",
    "    in_dict = {}\n",
    "    for region in all_regions:\n",
    "        if region == 'US': # comment out this line if including domestic inputs\n",
    "            continue\n",
    "        in_dict[region] = trade_calcvalues_dict[region][sector]\n",
    "    US_total_trade[sector] = in_dict"
   ]
  },
  {
   "cell_type": "markdown",
   "metadata": {},
   "source": [
    "This next cell will create the database which we will append columns of data onto, and eventually export as a spreadsheet. "
   ]
  },
  {
   "cell_type": "code",
   "execution_count": null,
   "metadata": {},
   "outputs": [],
   "source": [
    "# Data could be = all_sectors or all_regions. can add new axis as needed\n",
    "df = pd.DataFrame(data=all_regions)\n"
   ]
  },
  {
   "cell_type": "code",
   "execution_count": 4,
   "metadata": {},
   "outputs": [],
   "source": [
    "# Save function to add columns to the spreadsheet\n",
    "\n",
    "def save(database, lst, label):\n",
    "    database[label] = lst\n",
    "    return database"
   ]
  },
  {
   "cell_type": "code",
   "execution_count": 29,
   "metadata": {},
   "outputs": [],
   "source": [
    "#function that plots graphs of specific width and height.\n",
    "\n",
    "def plot_func(x, y, xlabel, ylabel, title):\n",
    "    fig = plt.figure(figsize=(16, 5))\n",
    "    ax = fig.add_subplot(111)\n",
    "    ax.bar(x,y)\n",
    "    fig.suptitle(title, fontsize=20)\n",
    "    plt.xlabel(xlabel, fontsize=18)\n",
    "    plt.ylabel(ylabel, fontsize=16)\n",
    "\n",
    "    \n",
    "    plt.show()"
   ]
  },
  {
   "cell_type": "markdown",
   "metadata": {},
   "source": [
    "## To add more columns to the spreadsheet, just extract an array of length == all_sectors/all_regions (depending on Y axis) and call the save() function"
   ]
  },
  {
   "cell_type": "code",
   "execution_count": 47,
   "metadata": {},
   "outputs": [],
   "source": [
    "# Consumption impacts (% of consumption that come from imports)\n",
    "imports = exio3.impacts.D_imp.US.loc['GHG emissions (GWP100) | Problem oriented approach: baseline (CML, 2001) | GWP100 (IPCC, 2007)']\n",
    "consumption = exio3.impacts.D_cba.US.loc['GHG emissions (GWP100) | Problem oriented approach: baseline (CML, 2001) | GWP100 (IPCC, 2007)']\n",
    "    \n",
    "    \n",
    "imports = imports.to_dict()\n",
    "consumption = consumption.to_dict()\n",
    "\n",
    "impacts_percent= {}\n",
    "count = 0\n",
    "for sector in all_sectors:\n",
    "    d = consumption[sector]\n",
    "    n = imports[sector]\n",
    "    if d == 0:\n",
    "        count += 1\n",
    "        if n != 0:\n",
    "            print(\"ERROR\")\n",
    "        impacts_percent[sector] = 'NA'\n",
    "        continue\n",
    "    percent = n / (d + n)\n",
    "    impacts_percent[sector] = percent\n",
    "    \n",
    "x, y = zip(*impacts_percent.items())\n",
    "df = save(df, y, \"Consumption impacts (% of consumption GHG that come from imports)\")"
   ]
  },
  {
   "cell_type": "code",
   "execution_count": 48,
   "metadata": {},
   "outputs": [],
   "source": [
    "# Total GHG from imports\n",
    "y2 = exio3.impacts.D_imp.US.loc['GHG emissions (GWP100) | Problem oriented approach: baseline (CML, 2001) | GWP100 (IPCC, 2007)'].to_list()\n",
    "df = save(df, y2, \"Total GHG from imports\")"
   ]
  },
  {
   "cell_type": "code",
   "execution_count": 49,
   "metadata": {},
   "outputs": [],
   "source": [
    "# Total GHG from exports\n",
    "y3 = exio3.impacts.D_exp.US.loc['GHG emissions (GWP100) | Problem oriented approach: baseline (CML, 2001) | GWP100 (IPCC, 2007)'].to_list()\n",
    "df = save(df, y3, \"Total GHG from exports\")"
   ]
  },
  {
   "cell_type": "code",
   "execution_count": 46,
   "metadata": {},
   "outputs": [],
   "source": [
    "# Total GHG from consumption (Imports and domestic)\n",
    "y4 = exio3.impacts.D_cba.US.loc['GHG emissions (GWP100) | Problem oriented approach: baseline (CML, 2001) | GWP100 (IPCC, 2007)'].to_list()\n",
    "df = save(df,y4, \"Total GHG from consumption (Imports and domestic)\")"
   ]
  },
  {
   "cell_type": "code",
   "execution_count": 50,
   "metadata": {},
   "outputs": [],
   "source": [
    "# Total GHG from production (Domestic)\n",
    "y5 = exio3.impacts.D_pba.US.loc['GHG emissions (GWP100) | Problem oriented approach: baseline (CML, 2001) | GWP100 (IPCC, 2007)'].to_list()\n",
    "df = save(df, y5, \"Total GHG from production (Domestic)\")"
   ]
  },
  {
   "cell_type": "code",
   "execution_count": 10,
   "metadata": {},
   "outputs": [],
   "source": [
    "# Total GHG produced by Region R-axis\n",
    "regional_prod_ghg = exio3.impacts.D_pba_reg.loc['GHG emissions (GWP100) | Problem oriented approach: baseline (CML, 2001) | GWP100 (IPCC, 2007)'].to_list()\n",
    "df = save(df, regional_prod_ghg, \"Total GHG produced by Region\")"
   ]
  },
  {
   "cell_type": "code",
   "execution_count": 41,
   "metadata": {},
   "outputs": [],
   "source": [
    "# Total GHG produced by Region per sector\n",
    "\n",
    "ghgpersector = {}\n",
    "for sector in all_sectors:\n",
    "    ghgpersector[sector] = []\n",
    "\n",
    "for region in all_regions:\n",
    "    region_list = exio3.impacts.F[region].loc['GHG emissions (GWP100) | Problem oriented approach: baseline (CML, 2001) | GWP100 (IPCC, 2007)'].to_list()\n",
    "    for i in range(len(all_sectors)):\n",
    "        ghgpersector[all_sectors[i]].append(region_list[i])\n",
    "\n",
    "\n",
    "for sector in all_sectors:\n",
    "    df = save(df, ghgpersector[sector], sector)\n"
   ]
  },
  {
   "cell_type": "code",
   "execution_count": null,
   "metadata": {},
   "outputs": [],
   "source": [
    "# Trade Imports into the US (excluding Domestic trade)\n",
    "\n",
    "trade_matrix_dict = {}\n",
    "count = 0\n",
    "lower_bound = 0\n",
    "upper_bound = 200\n",
    "\n",
    "for region in all_regions:\n",
    "    trade_matrix_dict[region] = us_z.iloc[lower_bound:upper_bound]\n",
    "    lower_bound += 200\n",
    "    upper_bound += 200\n",
    "\n",
    "demand_matrix_dict = {}\n",
    "count = 0\n",
    "lower_bound = 0\n",
    "upper_bound = 200\n",
    "\n",
    "for region in all_regions:\n",
    "    demand_matrix_dict[region] = us_y.iloc[lower_bound:upper_bound]\n",
    "    lower_bound += 200\n",
    "    upper_bound += 200\n",
    "    \n",
    "US_total_trade = {}\n",
    "\n",
    "for sector in all_sectors:\n",
    "    in_dict = {}\n",
    "    for region in all_regions:\n",
    "        if region == 'US':\n",
    "            continue\n",
    "        in_dict[region] = trade_calcvalues_dict[region][sector]\n",
    "    US_total_trade[sector] = in_dict\n",
    "\n",
    "\n",
    "for sector in all_sectors:\n",
    "    x, y = zip(*US_total_trade[sector].items())\n",
    "    df = save(df, y, sector)"
   ]
  },
  {
   "cell_type": "code",
   "execution_count": null,
   "metadata": {},
   "outputs": [],
   "source": [
    "# Run to check numbers in database before exporting spreadsheet\n",
    "df"
   ]
  },
  {
   "cell_type": "markdown",
   "metadata": {},
   "source": [
    "## You're done! Run the next cell to export the spreadsheet. Change the name_of_file to desired location"
   ]
  },
  {
   "cell_type": "code",
   "execution_count": 65,
   "metadata": {},
   "outputs": [],
   "source": [
    "# Run this cell to print and export the data in 'DF' into a spreadsheet\n",
    "\n",
    "name_of_file = 'Sources of imports into US 2019' # Change this string to desired filename\n",
    "df.to_excel(f'{name_of_file}.xlsx')"
   ]
  },
  {
   "cell_type": "code",
   "execution_count": null,
   "metadata": {},
   "outputs": [],
   "source": []
  }
 ],
 "metadata": {
  "kernelspec": {
   "display_name": "Python 3.9.12 ('base')",
   "language": "python",
   "name": "python3"
  },
  "language_info": {
   "codemirror_mode": {
    "name": "ipython",
    "version": 3
   },
   "file_extension": ".py",
   "mimetype": "text/x-python",
   "name": "python",
   "nbconvert_exporter": "python",
   "pygments_lexer": "ipython3",
   "version": "3.9.12"
  },
  "orig_nbformat": 4,
  "vscode": {
   "interpreter": {
    "hash": "04f8f7808fa8a5e6ba7efbe82e27301030a87688229265151c2cf49d6b10a02e"
   }
  }
 },
 "nbformat": 4,
 "nbformat_minor": 2
}
