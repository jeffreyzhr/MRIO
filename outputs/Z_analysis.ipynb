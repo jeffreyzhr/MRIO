{
 "cells": [
  {
   "cell_type": "markdown",
   "metadata": {},
   "source": [
    "# MRIO data anaylsis using Pymrio\n",
    "## (Trade 'Z' matrix - excluding domestic trade)\n",
    "### Jeffrey Zhou\n",
    "### 10/10/2022\n",
    "\n",
    "- if running locally, be sure to download zip files prior to running code"
   ]
  },
  {
   "cell_type": "code",
   "execution_count": 2,
   "metadata": {},
   "outputs": [],
   "source": [
    "import pymrio\n",
    "import pandas as pd\n",
    "import numpy as np\n",
    "import matplotlib.pyplot as plt"
   ]
  },
  {
   "cell_type": "code",
   "execution_count": 43,
   "metadata": {},
   "outputs": [],
   "source": [
    "#Replace path with relevant year, or omit year for all downloads\n",
    "\n",
    "exio3 = pymrio.parse_exiobase3(path='/Users/jeffreyzhou/Desktop/MRIO/Data/IOT_2022_pxp.zip')\n",
    "all_regions = exio3.get_regions()\n",
    "all_sectors = exio3.get_sectors()"
   ]
  },
  {
   "cell_type": "markdown",
   "metadata": {},
   "source": [
    "![alt text](mr_iot_v5_900px.png)"
   ]
  },
  {
   "cell_type": "markdown",
   "metadata": {},
   "source": [
    "![alt text](IOS_struct.png)"
   ]
  },
  {
   "cell_type": "code",
   "execution_count": 49,
   "metadata": {},
   "outputs": [
    {
     "data": {
      "text/plain": [
       "<pymrio.core.mriosystem.IOSystem at 0x7fdae9e2b970>"
      ]
     },
     "execution_count": 49,
     "metadata": {},
     "output_type": "execute_result"
    }
   ],
   "source": [
    "#include all missing calculations with calc_all()\n",
    "exio3.calc_all()"
   ]
  },
  {
   "cell_type": "code",
   "execution_count": 123,
   "metadata": {},
   "outputs": [],
   "source": [
    "#US Z matrix - transaction matrix\n",
    "us_z = exio3.Z.aggregate('US')\n",
    "\n",
    "#US Y matrix - final demand matrix\n",
    "us_y = exio3.Y.aggregate('US')\n"
   ]
  },
  {
   "cell_type": "code",
   "execution_count": 107,
   "metadata": {},
   "outputs": [],
   "source": [
    "#Sorting all input matrices into source regions (i'm sure theres a better way to do this but this will do for now)\n",
    "\n",
    "trade_matrix_dict = {}\n",
    "count = 0\n",
    "lower_bound = 0\n",
    "upper_bound = 200\n",
    "\n",
    "for region in all_regions:\n",
    "    trade_matrix_dict[region] = us_z.iloc[lower_bound:upper_bound]\n",
    "    lower_bound += 200\n",
    "    upper_bound += 200\n",
    "\n",
    "demand_matrix_dict = {}\n",
    "count = 0\n",
    "lower_bound = 0\n",
    "upper_bound = 200\n",
    "\n",
    "for region in all_regions:\n",
    "    demand_matrix_dict[region] = us_y.iloc[lower_bound:upper_bound]\n",
    "    lower_bound += 200\n",
    "    upper_bound += 200\n",
    "\n"
   ]
  },
  {
   "cell_type": "code",
   "execution_count": 126,
   "metadata": {},
   "outputs": [],
   "source": [
    "trade_calcvalues_dict = {}\n",
    "    \n",
    "for region in all_regions:\n",
    "    tm = trade_matrix_dict[region]\n",
    "    d = {}\n",
    "    for sector in all_sectors:\n",
    "        d[sector] = tm[sector].values.sum()\n",
    "    in_series = pd.Series(data = d, index = all_sectors)\n",
    "    trade_calcvalues_dict[region] = in_series\n",
    "\n"
   ]
  },
  {
   "cell_type": "code",
   "execution_count": 185,
   "metadata": {},
   "outputs": [],
   "source": [
    "US_total_trade = {}\n",
    "\n",
    "for sector in all_sectors:\n",
    "    in_dict = {}\n",
    "    for region in all_regions:\n",
    "        if region == 'US':\n",
    "            continue\n",
    "        in_dict[region] = trade_calcvalues_dict[region][sector]\n",
    "    US_total_trade[sector] = in_dict\n",
    "\n",
    "#TODO demand plots"
   ]
  },
  {
   "cell_type": "code",
   "execution_count": null,
   "metadata": {},
   "outputs": [],
   "source": [
    "argmax_dict = {}\n",
    "for sector in all_sectors:\n",
    "    a = pd.Series(data = US_total_trade[sector], index = all_regions)\n",
    "    arg_in = {}\n",
    "    amax = a.argmax()\n",
    "    print(amax)\n",
    "    arg_in[all_regions[amax]] = a[amax]\n",
    "    a.pop(all_regions[amax])\n",
    "    amax = a.argmax()\n",
    "    arg_in[all_regions[amax]] = a[amax]\n",
    "    a.pop(all_regions[amax])\n",
    "    amax = a.argmax()\n",
    "    arg_in[all_regions[amax]] = a[amax]\n",
    "    argmax_dict[sector] = arg_in"
   ]
  },
  {
   "cell_type": "code",
   "execution_count": 181,
   "metadata": {},
   "outputs": [],
   "source": [
    "from tqdm import tqdm"
   ]
  },
  {
   "cell_type": "markdown",
   "metadata": {},
   "source": [
    "## Plots of trade imports into the US (excluding domestic trade)"
   ]
  },
  {
   "cell_type": "code",
   "execution_count": null,
   "metadata": {},
   "outputs": [],
   "source": [
    "count = 0\n",
    "for sector in all_sectors:\n",
    "    x, y = zip(*US_total_trade[sector].items())\n",
    "    fig = plt.figure(figsize=(16, 5))\n",
    "    ax = fig.add_subplot(111)\n",
    "    ax.bar(x,y)\n",
    "    fig.suptitle(sector, fontsize=20)\n",
    "    plt.xlabel('Regions', fontsize=18)\n",
    "    plt.ylabel('Quantity (scale unknown)', fontsize=16)\n",
    "\n",
    "    \n",
    "    plt.show()"
   ]
  }
 ],
 "metadata": {
  "kernelspec": {
   "display_name": "Python 3.9.12 ('base')",
   "language": "python",
   "name": "python3"
  },
  "language_info": {
   "codemirror_mode": {
    "name": "ipython",
    "version": 3
   },
   "file_extension": ".py",
   "mimetype": "text/x-python",
   "name": "python",
   "nbconvert_exporter": "python",
   "pygments_lexer": "ipython3",
   "version": "3.9.12"
  },
  "orig_nbformat": 4,
  "vscode": {
   "interpreter": {
    "hash": "04f8f7808fa8a5e6ba7efbe82e27301030a87688229265151c2cf49d6b10a02e"
   }
  }
 },
 "nbformat": 4,
 "nbformat_minor": 2
}
